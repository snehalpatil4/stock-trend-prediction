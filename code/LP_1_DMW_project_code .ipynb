{
  "nbformat": 4,
  "nbformat_minor": 0,
  "metadata": {
    "colab": {
      "name": "LP-1_DMW_project_code.ipynb",
      "provenance": [],
      "collapsed_sections": []
    },
    "kernelspec": {
      "name": "python3",
      "display_name": "Python 3"
    }
  },
  "cells": [
    {
      "cell_type": "code",
      "metadata": {
        "id": "iBPoDzjGN1IT"
      },
      "source": [
        " !wget http://prdownloads.sourceforge.net/ta-lib/ta-lib-0.4.0-src.tar.gz\n",
        " !ls\n",
        " !tar xvzf ta-lib-0.4.0-src.tar.gz\n",
        " import os\n",
        " os.chdir('ta-lib')\n",
        " !./configure --prefix=/usr\n",
        " !make\n",
        " !make install\n",
        " os.chdir('../')\n",
        " !pip install TA-Lib"
      ],
      "execution_count": null,
      "outputs": []
    },
    {
      "cell_type": "markdown",
      "metadata": {
        "id": "YAwjkVR1RMzM"
      },
      "source": [
        "**STOCK  TREND PREDICTION** \n",
        "DMW Mini Project-LP-1\n",
        "* NAME-Harsh Munot(BECOB212)\n",
        "* NAME-Payal Narkhede(BECOB214)\n",
        "* NAME-Snehal Patil(BECOB226)\n",
        "```\n",
        "DATASET DETAILS\n",
        "```\n",
        "Dataset- KOTAKBANK.csv from NIFTY-50 dataset on Kaggle \n",
        "There are 4863 entries from 2000 to 2020\n",
        "There are total 14 cloumns\n",
        "We have tried to build a model which can predict the uptrend i.e. 1 or downTrend i.e. 0.\n"
      ]
    },
    {
      "cell_type": "code",
      "metadata": {
        "colab": {
          "base_uri": "https://localhost:8080/",
          "height": 225
        },
        "id": "vtP0leymOSxs",
        "outputId": "9d08907b-e298-41ac-fccb-369056a56427"
      },
      "source": [
        "import pandas as pd\n",
        "import numpy as np\n",
        "import matplotlib.pyplot as plt\n",
        "df=pd.read_csv(\"/content/KOTAKBANK.csv\",index_col=[0])\n",
        "df.index=pd.to_datetime(df.index)\n",
        "df.head()"
      ],
      "execution_count": 281,
      "outputs": [
        {
          "output_type": "execute_result",
          "data": {
            "text/html": [
              "<div>\n",
              "<style scoped>\n",
              "    .dataframe tbody tr th:only-of-type {\n",
              "        vertical-align: middle;\n",
              "    }\n",
              "\n",
              "    .dataframe tbody tr th {\n",
              "        vertical-align: top;\n",
              "    }\n",
              "\n",
              "    .dataframe thead th {\n",
              "        text-align: right;\n",
              "    }\n",
              "</style>\n",
              "<table border=\"1\" class=\"dataframe\">\n",
              "  <thead>\n",
              "    <tr style=\"text-align: right;\">\n",
              "      <th></th>\n",
              "      <th>Symbol</th>\n",
              "      <th>Series</th>\n",
              "      <th>Prev Close</th>\n",
              "      <th>Open</th>\n",
              "      <th>High</th>\n",
              "      <th>Low</th>\n",
              "      <th>Last</th>\n",
              "      <th>Close</th>\n",
              "      <th>VWAP</th>\n",
              "      <th>Volume</th>\n",
              "      <th>Turnover</th>\n",
              "      <th>Trades</th>\n",
              "      <th>Deliverable Volume</th>\n",
              "      <th>%Deliverble</th>\n",
              "    </tr>\n",
              "    <tr>\n",
              "      <th>Date</th>\n",
              "      <th></th>\n",
              "      <th></th>\n",
              "      <th></th>\n",
              "      <th></th>\n",
              "      <th></th>\n",
              "      <th></th>\n",
              "      <th></th>\n",
              "      <th></th>\n",
              "      <th></th>\n",
              "      <th></th>\n",
              "      <th></th>\n",
              "      <th></th>\n",
              "      <th></th>\n",
              "      <th></th>\n",
              "    </tr>\n",
              "  </thead>\n",
              "  <tbody>\n",
              "    <tr>\n",
              "      <th>2000-01-03</th>\n",
              "      <td>KOTAKMAH</td>\n",
              "      <td>EQ</td>\n",
              "      <td>212.35</td>\n",
              "      <td>220.0</td>\n",
              "      <td>229.35</td>\n",
              "      <td>220.00</td>\n",
              "      <td>229.35</td>\n",
              "      <td>229.35</td>\n",
              "      <td>229.13</td>\n",
              "      <td>7086</td>\n",
              "      <td>1.623640e+11</td>\n",
              "      <td>NaN</td>\n",
              "      <td>NaN</td>\n",
              "      <td>NaN</td>\n",
              "    </tr>\n",
              "    <tr>\n",
              "      <th>2000-01-04</th>\n",
              "      <td>KOTAKMAH</td>\n",
              "      <td>EQ</td>\n",
              "      <td>229.35</td>\n",
              "      <td>247.7</td>\n",
              "      <td>247.70</td>\n",
              "      <td>225.25</td>\n",
              "      <td>247.70</td>\n",
              "      <td>246.95</td>\n",
              "      <td>244.12</td>\n",
              "      <td>73681</td>\n",
              "      <td>1.798729e+12</td>\n",
              "      <td>NaN</td>\n",
              "      <td>NaN</td>\n",
              "      <td>NaN</td>\n",
              "    </tr>\n",
              "    <tr>\n",
              "      <th>2000-01-05</th>\n",
              "      <td>KOTAKMAH</td>\n",
              "      <td>EQ</td>\n",
              "      <td>246.95</td>\n",
              "      <td>229.0</td>\n",
              "      <td>240.00</td>\n",
              "      <td>227.20</td>\n",
              "      <td>228.00</td>\n",
              "      <td>228.40</td>\n",
              "      <td>233.75</td>\n",
              "      <td>105799</td>\n",
              "      <td>2.473093e+12</td>\n",
              "      <td>NaN</td>\n",
              "      <td>NaN</td>\n",
              "      <td>NaN</td>\n",
              "    </tr>\n",
              "    <tr>\n",
              "      <th>2000-01-06</th>\n",
              "      <td>KOTAKMAH</td>\n",
              "      <td>EQ</td>\n",
              "      <td>228.40</td>\n",
              "      <td>235.1</td>\n",
              "      <td>239.00</td>\n",
              "      <td>217.00</td>\n",
              "      <td>224.95</td>\n",
              "      <td>225.90</td>\n",
              "      <td>226.84</td>\n",
              "      <td>40202</td>\n",
              "      <td>9.119546e+11</td>\n",
              "      <td>NaN</td>\n",
              "      <td>NaN</td>\n",
              "      <td>NaN</td>\n",
              "    </tr>\n",
              "    <tr>\n",
              "      <th>2000-01-07</th>\n",
              "      <td>KOTAKMAH</td>\n",
              "      <td>EQ</td>\n",
              "      <td>225.90</td>\n",
              "      <td>213.0</td>\n",
              "      <td>219.00</td>\n",
              "      <td>207.85</td>\n",
              "      <td>207.85</td>\n",
              "      <td>208.85</td>\n",
              "      <td>209.94</td>\n",
              "      <td>24463</td>\n",
              "      <td>5.135747e+11</td>\n",
              "      <td>NaN</td>\n",
              "      <td>NaN</td>\n",
              "      <td>NaN</td>\n",
              "    </tr>\n",
              "  </tbody>\n",
              "</table>\n",
              "</div>"
            ],
            "text/plain": [
              "              Symbol Series  ...  Deliverable Volume  %Deliverble\n",
              "Date                         ...                                 \n",
              "2000-01-03  KOTAKMAH     EQ  ...                 NaN          NaN\n",
              "2000-01-04  KOTAKMAH     EQ  ...                 NaN          NaN\n",
              "2000-01-05  KOTAKMAH     EQ  ...                 NaN          NaN\n",
              "2000-01-06  KOTAKMAH     EQ  ...                 NaN          NaN\n",
              "2000-01-07  KOTAKMAH     EQ  ...                 NaN          NaN\n",
              "\n",
              "[5 rows x 14 columns]"
            ]
          },
          "metadata": {
            "tags": []
          },
          "execution_count": 281
        }
      ]
    },
    {
      "cell_type": "code",
      "metadata": {
        "colab": {
          "base_uri": "https://localhost:8080/",
          "height": 225
        },
        "id": "Zd7vvVL7OVmv",
        "outputId": "a47d6291-130d-4e4a-8e00-fb6535b0c72c"
      },
      "source": [
        "df=df.drop(['Symbol','Series','Prev Close','VWAP','Turnover','Trades','Deliverable Volume','%Deliverble'],axis=1)\n",
        "df.head()"
      ],
      "execution_count": 282,
      "outputs": [
        {
          "output_type": "execute_result",
          "data": {
            "text/html": [
              "<div>\n",
              "<style scoped>\n",
              "    .dataframe tbody tr th:only-of-type {\n",
              "        vertical-align: middle;\n",
              "    }\n",
              "\n",
              "    .dataframe tbody tr th {\n",
              "        vertical-align: top;\n",
              "    }\n",
              "\n",
              "    .dataframe thead th {\n",
              "        text-align: right;\n",
              "    }\n",
              "</style>\n",
              "<table border=\"1\" class=\"dataframe\">\n",
              "  <thead>\n",
              "    <tr style=\"text-align: right;\">\n",
              "      <th></th>\n",
              "      <th>Open</th>\n",
              "      <th>High</th>\n",
              "      <th>Low</th>\n",
              "      <th>Last</th>\n",
              "      <th>Close</th>\n",
              "      <th>Volume</th>\n",
              "    </tr>\n",
              "    <tr>\n",
              "      <th>Date</th>\n",
              "      <th></th>\n",
              "      <th></th>\n",
              "      <th></th>\n",
              "      <th></th>\n",
              "      <th></th>\n",
              "      <th></th>\n",
              "    </tr>\n",
              "  </thead>\n",
              "  <tbody>\n",
              "    <tr>\n",
              "      <th>2000-01-03</th>\n",
              "      <td>220.0</td>\n",
              "      <td>229.35</td>\n",
              "      <td>220.00</td>\n",
              "      <td>229.35</td>\n",
              "      <td>229.35</td>\n",
              "      <td>7086</td>\n",
              "    </tr>\n",
              "    <tr>\n",
              "      <th>2000-01-04</th>\n",
              "      <td>247.7</td>\n",
              "      <td>247.70</td>\n",
              "      <td>225.25</td>\n",
              "      <td>247.70</td>\n",
              "      <td>246.95</td>\n",
              "      <td>73681</td>\n",
              "    </tr>\n",
              "    <tr>\n",
              "      <th>2000-01-05</th>\n",
              "      <td>229.0</td>\n",
              "      <td>240.00</td>\n",
              "      <td>227.20</td>\n",
              "      <td>228.00</td>\n",
              "      <td>228.40</td>\n",
              "      <td>105799</td>\n",
              "    </tr>\n",
              "    <tr>\n",
              "      <th>2000-01-06</th>\n",
              "      <td>235.1</td>\n",
              "      <td>239.00</td>\n",
              "      <td>217.00</td>\n",
              "      <td>224.95</td>\n",
              "      <td>225.90</td>\n",
              "      <td>40202</td>\n",
              "    </tr>\n",
              "    <tr>\n",
              "      <th>2000-01-07</th>\n",
              "      <td>213.0</td>\n",
              "      <td>219.00</td>\n",
              "      <td>207.85</td>\n",
              "      <td>207.85</td>\n",
              "      <td>208.85</td>\n",
              "      <td>24463</td>\n",
              "    </tr>\n",
              "  </tbody>\n",
              "</table>\n",
              "</div>"
            ],
            "text/plain": [
              "             Open    High     Low    Last   Close  Volume\n",
              "Date                                                     \n",
              "2000-01-03  220.0  229.35  220.00  229.35  229.35    7086\n",
              "2000-01-04  247.7  247.70  225.25  247.70  246.95   73681\n",
              "2000-01-05  229.0  240.00  227.20  228.00  228.40  105799\n",
              "2000-01-06  235.1  239.00  217.00  224.95  225.90   40202\n",
              "2000-01-07  213.0  219.00  207.85  207.85  208.85   24463"
            ]
          },
          "metadata": {
            "tags": []
          },
          "execution_count": 282
        }
      ]
    },
    {
      "cell_type": "code",
      "metadata": {
        "colab": {
          "base_uri": "https://localhost:8080/"
        },
        "id": "15Mfb2PoSCBW",
        "outputId": "d703f10c-3c7d-4f5c-cf9c-cd7ebac2ebb8"
      },
      "source": [
        "df.info()"
      ],
      "execution_count": 283,
      "outputs": [
        {
          "output_type": "stream",
          "text": [
            "<class 'pandas.core.frame.DataFrame'>\n",
            "DatetimeIndex: 4863 entries, 2000-01-03 to 2020-10-30\n",
            "Data columns (total 6 columns):\n",
            " #   Column  Non-Null Count  Dtype  \n",
            "---  ------  --------------  -----  \n",
            " 0   Open    4863 non-null   float64\n",
            " 1   High    4863 non-null   float64\n",
            " 2   Low     4863 non-null   float64\n",
            " 3   Last    4863 non-null   float64\n",
            " 4   Close   4863 non-null   float64\n",
            " 5   Volume  4863 non-null   int64  \n",
            "dtypes: float64(5), int64(1)\n",
            "memory usage: 265.9 KB\n"
          ],
          "name": "stdout"
        }
      ]
    },
    {
      "cell_type": "code",
      "metadata": {
        "colab": {
          "base_uri": "https://localhost:8080/",
          "height": 439
        },
        "id": "nhoXJgVuObCI",
        "outputId": "bbcf805a-d79f-46ea-c10d-41a551367ccb"
      },
      "source": [
        "df.Close.plot(figsize=(15,7))\n",
        "plt.xlabel('Date')\n",
        "plt.ylabel('Stock Price')\n",
        "plt.title('KOTAKBANK')\n",
        "plt.grid()\n",
        "plt.show()"
      ],
      "execution_count": 284,
      "outputs": [
        {
          "output_type": "display_data",
          "data": {
            "image/png": "[encoded data removed]",
            "text/plain": [
              "<Figure size 1080x504 with 1 Axes>"
            ]
          },
          "metadata": {
            "tags": [],
            "needs_background": "light"
          }
        }
      ]
    },
    {
      "cell_type": "code",
      "metadata": {
        "id": "6m_0kyHjeG0D"
      },
      "source": [
        "df=df['2004-01-01':'2020-10-30']"
      ],
      "execution_count": 285,
      "outputs": []
    },
    {
      "cell_type": "code",
      "metadata": {
        "colab": {
          "base_uri": "https://localhost:8080/",
          "height": 439
        },
        "id": "2FR2cxy-eZ45",
        "outputId": "696fd34f-7770-4571-d56b-7b4fefd9c970"
      },
      "source": [
        "df.Close.plot(figsize=(15,7))\n",
        "plt.xlabel('Date')\n",
        "plt.ylabel('Stock Price')\n",
        "plt.title('KOTAKBANK')\n",
        "plt.grid()\n",
        "plt.show()"
      ],
      "execution_count": 286,
      "outputs": [
        {
          "output_type": "display_data",
          "data": {
            "image/png": "[encoded data removed]",
            "text/plain": [
              "<Figure size 1080x504 with 1 Axes>"
            ]
          },
          "metadata": {
            "tags": [],
            "needs_background": "light"
          }
        }
      ]
    },
    {
      "cell_type": "code",
      "metadata": {
        "colab": {
          "base_uri": "https://localhost:8080/",
          "height": 383
        },
        "id": "wd4kOR4LOdWY",
        "outputId": "ef915f1d-3dbf-4343-bac8-7fee1427de75"
      },
      "source": [
        "import talib as ta\n",
        "df['RSI']=ta.RSI(df['Close'].values,timeperiod=14)\n",
        "df['DIFF1']=df['Close'].diff().values\n",
        "df['DIFF2']=df['Close'].diff(2).values\n",
        "df['DIFF3']=df['Close'].diff(3).values\n",
        "df['DIFF4']=df['Close'].diff(4).values\n",
        "print(df.head())\n",
        "df.tail()"
      ],
      "execution_count": 287,
      "outputs": [
        {
          "output_type": "stream",
          "text": [
            "             Open    High    Low   Last  ...  DIFF1  DIFF2  DIFF3  DIFF4\n",
            "Date                                     ...                            \n",
            "2004-01-01  399.0  399.00  383.0  391.9  ...    NaN    NaN    NaN    NaN\n",
            "2004-01-02  397.5  397.50  379.0  383.0  ...  -6.80    NaN    NaN    NaN\n",
            "2004-01-05  388.0  390.90  370.0  373.0  ... -12.35 -19.15    NaN    NaN\n",
            "2004-01-06  375.8  375.80  363.0  363.0  ...  -4.10 -16.45 -23.25    NaN\n",
            "2004-01-07  350.0  376.95  350.0  370.1  ...   2.65  -1.45 -13.80  -20.6\n",
            "\n",
            "[5 rows x 11 columns]\n"
          ],
          "name": "stdout"
        },
        {
          "output_type": "execute_result",
          "data": {
            "text/html": [
              "<div>\n",
              "<style scoped>\n",
              "    .dataframe tbody tr th:only-of-type {\n",
              "        vertical-align: middle;\n",
              "    }\n",
              "\n",
              "    .dataframe tbody tr th {\n",
              "        vertical-align: top;\n",
              "    }\n",
              "\n",
              "    .dataframe thead th {\n",
              "        text-align: right;\n",
              "    }\n",
              "</style>\n",
              "<table border=\"1\" class=\"dataframe\">\n",
              "  <thead>\n",
              "    <tr style=\"text-align: right;\">\n",
              "      <th></th>\n",
              "      <th>Open</th>\n",
              "      <th>High</th>\n",
              "      <th>Low</th>\n",
              "      <th>Last</th>\n",
              "      <th>Close</th>\n",
              "      <th>Volume</th>\n",
              "      <th>RSI</th>\n",
              "      <th>DIFF1</th>\n",
              "      <th>DIFF2</th>\n",
              "      <th>DIFF3</th>\n",
              "      <th>DIFF4</th>\n",
              "    </tr>\n",
              "    <tr>\n",
              "      <th>Date</th>\n",
              "      <th></th>\n",
              "      <th></th>\n",
              "      <th></th>\n",
              "      <th></th>\n",
              "      <th></th>\n",
              "      <th></th>\n",
              "      <th></th>\n",
              "      <th></th>\n",
              "      <th></th>\n",
              "      <th></th>\n",
              "      <th></th>\n",
              "    </tr>\n",
              "  </thead>\n",
              "  <tbody>\n",
              "    <tr>\n",
              "      <th>2020-10-26</th>\n",
              "      <td>1399.0</td>\n",
              "      <td>1429.00</td>\n",
              "      <td>1347.35</td>\n",
              "      <td>1410.55</td>\n",
              "      <td>1416.90</td>\n",
              "      <td>8022562</td>\n",
              "      <td>64.565282</td>\n",
              "      <td>33.85</td>\n",
              "      <td>23.85</td>\n",
              "      <td>23.60</td>\n",
              "      <td>48.10</td>\n",
              "    </tr>\n",
              "    <tr>\n",
              "      <th>2020-10-27</th>\n",
              "      <td>1452.5</td>\n",
              "      <td>1602.00</td>\n",
              "      <td>1452.50</td>\n",
              "      <td>1582.70</td>\n",
              "      <td>1587.65</td>\n",
              "      <td>33167143</td>\n",
              "      <td>79.086428</td>\n",
              "      <td>170.75</td>\n",
              "      <td>204.60</td>\n",
              "      <td>194.60</td>\n",
              "      <td>194.35</td>\n",
              "    </tr>\n",
              "    <tr>\n",
              "      <th>2020-10-28</th>\n",
              "      <td>1575.0</td>\n",
              "      <td>1575.00</td>\n",
              "      <td>1541.00</td>\n",
              "      <td>1556.00</td>\n",
              "      <td>1551.35</td>\n",
              "      <td>7245009</td>\n",
              "      <td>72.302863</td>\n",
              "      <td>-36.30</td>\n",
              "      <td>134.45</td>\n",
              "      <td>168.30</td>\n",
              "      <td>158.30</td>\n",
              "    </tr>\n",
              "    <tr>\n",
              "      <th>2020-10-29</th>\n",
              "      <td>1532.0</td>\n",
              "      <td>1588.80</td>\n",
              "      <td>1525.00</td>\n",
              "      <td>1569.00</td>\n",
              "      <td>1570.90</td>\n",
              "      <td>7286144</td>\n",
              "      <td>73.615457</td>\n",
              "      <td>19.55</td>\n",
              "      <td>-16.75</td>\n",
              "      <td>154.00</td>\n",
              "      <td>187.85</td>\n",
              "    </tr>\n",
              "    <tr>\n",
              "      <th>2020-10-30</th>\n",
              "      <td>1574.0</td>\n",
              "      <td>1574.65</td>\n",
              "      <td>1518.60</td>\n",
              "      <td>1545.00</td>\n",
              "      <td>1547.40</td>\n",
              "      <td>4201984</td>\n",
              "      <td>69.360330</td>\n",
              "      <td>-23.50</td>\n",
              "      <td>-3.95</td>\n",
              "      <td>-40.25</td>\n",
              "      <td>130.50</td>\n",
              "    </tr>\n",
              "  </tbody>\n",
              "</table>\n",
              "</div>"
            ],
            "text/plain": [
              "              Open     High      Low     Last  ...   DIFF1   DIFF2   DIFF3   DIFF4\n",
              "Date                                           ...                                \n",
              "2020-10-26  1399.0  1429.00  1347.35  1410.55  ...   33.85   23.85   23.60   48.10\n",
              "2020-10-27  1452.5  1602.00  1452.50  1582.70  ...  170.75  204.60  194.60  194.35\n",
              "2020-10-28  1575.0  1575.00  1541.00  1556.00  ...  -36.30  134.45  168.30  158.30\n",
              "2020-10-29  1532.0  1588.80  1525.00  1569.00  ...   19.55  -16.75  154.00  187.85\n",
              "2020-10-30  1574.0  1574.65  1518.60  1545.00  ...  -23.50   -3.95  -40.25  130.50\n",
              "\n",
              "[5 rows x 11 columns]"
            ]
          },
          "metadata": {
            "tags": []
          },
          "execution_count": 287
        }
      ]
    },
    {
      "cell_type": "code",
      "metadata": {
        "colab": {
          "base_uri": "https://localhost:8080/",
          "height": 855
        },
        "id": "NQk7enngQtYa",
        "outputId": "a90b1d69-cacf-4de8-f279-bd55b879952c"
      },
      "source": [
        "df['Trends']=np.where(df.Close.shift(-1)>df.Close,1,0)\n",
        "print(df.head(15))\n",
        "df.tail(15)"
      ],
      "execution_count": 288,
      "outputs": [
        {
          "output_type": "stream",
          "text": [
            "             Open    High     Low   Last  ...  DIFF2  DIFF3  DIFF4  Trends\n",
            "Date                                      ...                             \n",
            "2004-01-01  399.0  399.00  383.00  391.9  ...    NaN    NaN    NaN       0\n",
            "2004-01-02  397.5  397.50  379.00  383.0  ...    NaN    NaN    NaN       0\n",
            "2004-01-05  388.0  390.90  370.00  373.0  ... -19.15    NaN    NaN       0\n",
            "2004-01-06  375.8  375.80  363.00  363.0  ... -16.45 -23.25    NaN       1\n",
            "2004-01-07  350.0  376.95  350.00  370.1  ...  -1.45 -13.80 -20.60       1\n",
            "2004-01-08  377.9  388.00  374.00  388.0  ...  15.90  11.80  -0.55       1\n",
            "2004-01-09  386.0  402.00  386.00  393.5  ...  20.75  23.40  19.30       0\n",
            "2004-01-12  388.3  389.00  378.00  382.5  ...  -1.65  11.60  14.25       1\n",
            "2004-01-13  390.0  390.00  379.80  385.0  ...  -6.20   1.30  14.55       0\n",
            "2004-01-14  384.5  389.95  384.50  386.0  ...   2.60  -6.55   0.95       1\n",
            "2004-01-15  395.0  397.50  385.00  391.5  ...   4.95   7.90  -1.25       0\n",
            "2004-01-16  390.0  395.00  375.05  382.0  ...  -3.20  -3.55  -0.60       0\n",
            "2004-01-19  378.0  384.80  375.10  378.0  ... -12.85  -7.55  -7.90       1\n",
            "2004-01-20  385.0  392.00  383.50  391.0  ...   8.25  -0.25   5.05       0\n",
            "2004-01-21  383.2  390.00  370.00  380.5  ...  -0.80  -5.15 -13.65       0\n",
            "\n",
            "[15 rows x 12 columns]\n"
          ],
          "name": "stdout"
        },
        {
          "output_type": "execute_result",
          "data": {
            "text/html": [
              "<div>\n",
              "<style scoped>\n",
              "    .dataframe tbody tr th:only-of-type {\n",
              "        vertical-align: middle;\n",
              "    }\n",
              "\n",
              "    .dataframe tbody tr th {\n",
              "        vertical-align: top;\n",
              "    }\n",
              "\n",
              "    .dataframe thead th {\n",
              "        text-align: right;\n",
              "    }\n",
              "</style>\n",
              "<table border=\"1\" class=\"dataframe\">\n",
              "  <thead>\n",
              "    <tr style=\"text-align: right;\">\n",
              "      <th></th>\n",
              "      <th>Open</th>\n",
              "      <th>High</th>\n",
              "      <th>Low</th>\n",
              "      <th>Last</th>\n",
              "      <th>Close</th>\n",
              "      <th>Volume</th>\n",
              "      <th>RSI</th>\n",
              "      <th>DIFF1</th>\n",
              "      <th>DIFF2</th>\n",
              "      <th>DIFF3</th>\n",
              "      <th>DIFF4</th>\n",
              "      <th>Trends</th>\n",
              "    </tr>\n",
              "    <tr>\n",
              "      <th>Date</th>\n",
              "      <th></th>\n",
              "      <th></th>\n",
              "      <th></th>\n",
              "      <th></th>\n",
              "      <th></th>\n",
              "      <th></th>\n",
              "      <th></th>\n",
              "      <th></th>\n",
              "      <th></th>\n",
              "      <th></th>\n",
              "      <th></th>\n",
              "      <th></th>\n",
              "    </tr>\n",
              "  </thead>\n",
              "  <tbody>\n",
              "    <tr>\n",
              "      <th>2020-10-12</th>\n",
              "      <td>1328.00</td>\n",
              "      <td>1358.20</td>\n",
              "      <td>1307.50</td>\n",
              "      <td>1312.85</td>\n",
              "      <td>1312.90</td>\n",
              "      <td>5175329</td>\n",
              "      <td>49.522672</td>\n",
              "      <td>-6.95</td>\n",
              "      <td>-7.20</td>\n",
              "      <td>-11.80</td>\n",
              "      <td>-25.35</td>\n",
              "      <td>1</td>\n",
              "    </tr>\n",
              "    <tr>\n",
              "      <th>2020-10-13</th>\n",
              "      <td>1319.65</td>\n",
              "      <td>1349.70</td>\n",
              "      <td>1307.20</td>\n",
              "      <td>1341.10</td>\n",
              "      <td>1344.95</td>\n",
              "      <td>4872154</td>\n",
              "      <td>56.427840</td>\n",
              "      <td>32.05</td>\n",
              "      <td>25.10</td>\n",
              "      <td>24.85</td>\n",
              "      <td>20.25</td>\n",
              "      <td>1</td>\n",
              "    </tr>\n",
              "    <tr>\n",
              "      <th>2020-10-14</th>\n",
              "      <td>1335.25</td>\n",
              "      <td>1358.00</td>\n",
              "      <td>1324.15</td>\n",
              "      <td>1355.00</td>\n",
              "      <td>1353.35</td>\n",
              "      <td>3358472</td>\n",
              "      <td>58.047671</td>\n",
              "      <td>8.40</td>\n",
              "      <td>40.45</td>\n",
              "      <td>33.50</td>\n",
              "      <td>33.25</td>\n",
              "      <td>0</td>\n",
              "    </tr>\n",
              "    <tr>\n",
              "      <th>2020-10-15</th>\n",
              "      <td>1353.35</td>\n",
              "      <td>1365.95</td>\n",
              "      <td>1301.25</td>\n",
              "      <td>1307.00</td>\n",
              "      <td>1309.55</td>\n",
              "      <td>3496590</td>\n",
              "      <td>48.022629</td>\n",
              "      <td>-43.80</td>\n",
              "      <td>-35.40</td>\n",
              "      <td>-3.35</td>\n",
              "      <td>-10.30</td>\n",
              "      <td>1</td>\n",
              "    </tr>\n",
              "    <tr>\n",
              "      <th>2020-10-16</th>\n",
              "      <td>1308.50</td>\n",
              "      <td>1343.30</td>\n",
              "      <td>1308.50</td>\n",
              "      <td>1336.45</td>\n",
              "      <td>1336.55</td>\n",
              "      <td>2358054</td>\n",
              "      <td>53.368905</td>\n",
              "      <td>27.00</td>\n",
              "      <td>-16.80</td>\n",
              "      <td>-8.40</td>\n",
              "      <td>23.65</td>\n",
              "      <td>1</td>\n",
              "    </tr>\n",
              "    <tr>\n",
              "      <th>2020-10-19</th>\n",
              "      <td>1350.00</td>\n",
              "      <td>1380.00</td>\n",
              "      <td>1333.50</td>\n",
              "      <td>1374.90</td>\n",
              "      <td>1376.70</td>\n",
              "      <td>3971028</td>\n",
              "      <td>59.963650</td>\n",
              "      <td>40.15</td>\n",
              "      <td>67.15</td>\n",
              "      <td>23.35</td>\n",
              "      <td>31.75</td>\n",
              "      <td>0</td>\n",
              "    </tr>\n",
              "    <tr>\n",
              "      <th>2020-10-20</th>\n",
              "      <td>1371.70</td>\n",
              "      <td>1386.00</td>\n",
              "      <td>1355.50</td>\n",
              "      <td>1369.10</td>\n",
              "      <td>1368.80</td>\n",
              "      <td>3228111</td>\n",
              "      <td>58.218980</td>\n",
              "      <td>-7.90</td>\n",
              "      <td>32.25</td>\n",
              "      <td>59.25</td>\n",
              "      <td>15.45</td>\n",
              "      <td>1</td>\n",
              "    </tr>\n",
              "    <tr>\n",
              "      <th>2020-10-21</th>\n",
              "      <td>1375.00</td>\n",
              "      <td>1400.00</td>\n",
              "      <td>1358.65</td>\n",
              "      <td>1392.25</td>\n",
              "      <td>1393.30</td>\n",
              "      <td>4280457</td>\n",
              "      <td>61.919412</td>\n",
              "      <td>24.50</td>\n",
              "      <td>16.60</td>\n",
              "      <td>56.75</td>\n",
              "      <td>83.75</td>\n",
              "      <td>0</td>\n",
              "    </tr>\n",
              "    <tr>\n",
              "      <th>2020-10-22</th>\n",
              "      <td>1388.00</td>\n",
              "      <td>1405.00</td>\n",
              "      <td>1377.55</td>\n",
              "      <td>1391.50</td>\n",
              "      <td>1393.05</td>\n",
              "      <td>3610102</td>\n",
              "      <td>61.859207</td>\n",
              "      <td>-0.25</td>\n",
              "      <td>24.25</td>\n",
              "      <td>16.35</td>\n",
              "      <td>56.50</td>\n",
              "      <td>0</td>\n",
              "    </tr>\n",
              "    <tr>\n",
              "      <th>2020-10-23</th>\n",
              "      <td>1400.00</td>\n",
              "      <td>1407.70</td>\n",
              "      <td>1378.25</td>\n",
              "      <td>1385.65</td>\n",
              "      <td>1383.05</td>\n",
              "      <td>2385861</td>\n",
              "      <td>59.372418</td>\n",
              "      <td>-10.00</td>\n",
              "      <td>-10.25</td>\n",
              "      <td>14.25</td>\n",
              "      <td>6.35</td>\n",
              "      <td>1</td>\n",
              "    </tr>\n",
              "    <tr>\n",
              "      <th>2020-10-26</th>\n",
              "      <td>1399.00</td>\n",
              "      <td>1429.00</td>\n",
              "      <td>1347.35</td>\n",
              "      <td>1410.55</td>\n",
              "      <td>1416.90</td>\n",
              "      <td>8022562</td>\n",
              "      <td>64.565282</td>\n",
              "      <td>33.85</td>\n",
              "      <td>23.85</td>\n",
              "      <td>23.60</td>\n",
              "      <td>48.10</td>\n",
              "      <td>1</td>\n",
              "    </tr>\n",
              "    <tr>\n",
              "      <th>2020-10-27</th>\n",
              "      <td>1452.50</td>\n",
              "      <td>1602.00</td>\n",
              "      <td>1452.50</td>\n",
              "      <td>1582.70</td>\n",
              "      <td>1587.65</td>\n",
              "      <td>33167143</td>\n",
              "      <td>79.086428</td>\n",
              "      <td>170.75</td>\n",
              "      <td>204.60</td>\n",
              "      <td>194.60</td>\n",
              "      <td>194.35</td>\n",
              "      <td>0</td>\n",
              "    </tr>\n",
              "    <tr>\n",
              "      <th>2020-10-28</th>\n",
              "      <td>1575.00</td>\n",
              "      <td>1575.00</td>\n",
              "      <td>1541.00</td>\n",
              "      <td>1556.00</td>\n",
              "      <td>1551.35</td>\n",
              "      <td>7245009</td>\n",
              "      <td>72.302863</td>\n",
              "      <td>-36.30</td>\n",
              "      <td>134.45</td>\n",
              "      <td>168.30</td>\n",
              "      <td>158.30</td>\n",
              "      <td>1</td>\n",
              "    </tr>\n",
              "    <tr>\n",
              "      <th>2020-10-29</th>\n",
              "      <td>1532.00</td>\n",
              "      <td>1588.80</td>\n",
              "      <td>1525.00</td>\n",
              "      <td>1569.00</td>\n",
              "      <td>1570.90</td>\n",
              "      <td>7286144</td>\n",
              "      <td>73.615457</td>\n",
              "      <td>19.55</td>\n",
              "      <td>-16.75</td>\n",
              "      <td>154.00</td>\n",
              "      <td>187.85</td>\n",
              "      <td>0</td>\n",
              "    </tr>\n",
              "    <tr>\n",
              "      <th>2020-10-30</th>\n",
              "      <td>1574.00</td>\n",
              "      <td>1574.65</td>\n",
              "      <td>1518.60</td>\n",
              "      <td>1545.00</td>\n",
              "      <td>1547.40</td>\n",
              "      <td>4201984</td>\n",
              "      <td>69.360330</td>\n",
              "      <td>-23.50</td>\n",
              "      <td>-3.95</td>\n",
              "      <td>-40.25</td>\n",
              "      <td>130.50</td>\n",
              "      <td>0</td>\n",
              "    </tr>\n",
              "  </tbody>\n",
              "</table>\n",
              "</div>"
            ],
            "text/plain": [
              "               Open     High      Low     Last  ...   DIFF2   DIFF3   DIFF4  Trends\n",
              "Date                                            ...                                \n",
              "2020-10-12  1328.00  1358.20  1307.50  1312.85  ...   -7.20  -11.80  -25.35       1\n",
              "2020-10-13  1319.65  1349.70  1307.20  1341.10  ...   25.10   24.85   20.25       1\n",
              "2020-10-14  1335.25  1358.00  1324.15  1355.00  ...   40.45   33.50   33.25       0\n",
              "2020-10-15  1353.35  1365.95  1301.25  1307.00  ...  -35.40   -3.35  -10.30       1\n",
              "2020-10-16  1308.50  1343.30  1308.50  1336.45  ...  -16.80   -8.40   23.65       1\n",
              "2020-10-19  1350.00  1380.00  1333.50  1374.90  ...   67.15   23.35   31.75       0\n",
              "2020-10-20  1371.70  1386.00  1355.50  1369.10  ...   32.25   59.25   15.45       1\n",
              "2020-10-21  1375.00  1400.00  1358.65  1392.25  ...   16.60   56.75   83.75       0\n",
              "2020-10-22  1388.00  1405.00  1377.55  1391.50  ...   24.25   16.35   56.50       0\n",
              "2020-10-23  1400.00  1407.70  1378.25  1385.65  ...  -10.25   14.25    6.35       1\n",
              "2020-10-26  1399.00  1429.00  1347.35  1410.55  ...   23.85   23.60   48.10       1\n",
              "2020-10-27  1452.50  1602.00  1452.50  1582.70  ...  204.60  194.60  194.35       0\n",
              "2020-10-28  1575.00  1575.00  1541.00  1556.00  ...  134.45  168.30  158.30       1\n",
              "2020-10-29  1532.00  1588.80  1525.00  1569.00  ...  -16.75  154.00  187.85       0\n",
              "2020-10-30  1574.00  1574.65  1518.60  1545.00  ...   -3.95  -40.25  130.50       0\n",
              "\n",
              "[15 rows x 12 columns]"
            ]
          },
          "metadata": {
            "tags": []
          },
          "execution_count": 288
        }
      ]
    },
    {
      "cell_type": "code",
      "metadata": {
        "colab": {
          "base_uri": "https://localhost:8080/"
        },
        "id": "McA3aiNoQ72h",
        "outputId": "0d64ee44-c242-4319-de40-637daaa47986"
      },
      "source": [
        "print(df['Trends'].count())\n",
        "print(df['Trends'].sum())"
      ],
      "execution_count": 289,
      "outputs": [
        {
          "output_type": "stream",
          "text": [
            "4181\n",
            "2174\n"
          ],
          "name": "stdout"
        }
      ]
    },
    {
      "cell_type": "code",
      "metadata": {
        "colab": {
          "base_uri": "https://localhost:8080/"
        },
        "id": "p-q4TN1uRBVo",
        "outputId": "a71bcec0-6382-499f-c7a6-a929a7eecbe1"
      },
      "source": [
        "df.dropna(inplace=True)\n",
        "predictor_list=['RSI','DIFF1','DIFF2','DIFF3','DIFF4']\n",
        "X=df[predictor_list]\n",
        "y=df['Trends']\n",
        "y.tail()"
      ],
      "execution_count": 290,
      "outputs": [
        {
          "output_type": "execute_result",
          "data": {
            "text/plain": [
              "Date\n",
              "2020-10-26    1\n",
              "2020-10-27    0\n",
              "2020-10-28    1\n",
              "2020-10-29    0\n",
              "2020-10-30    0\n",
              "Name: Trends, dtype: int64"
            ]
          },
          "metadata": {
            "tags": []
          },
          "execution_count": 290
        }
      ]
    },
    {
      "cell_type": "code",
      "metadata": {
        "colab": {
          "base_uri": "https://localhost:8080/"
        },
        "id": "GPGBcCAYRQkJ",
        "outputId": "823f7c5a-e4fd-4d8d-dd5c-90e92cb5e62f"
      },
      "source": [
        "print(df['Trends'].count())\n",
        "df['Trends'].sum()"
      ],
      "execution_count": 291,
      "outputs": [
        {
          "output_type": "stream",
          "text": [
            "4167\n"
          ],
          "name": "stdout"
        },
        {
          "output_type": "execute_result",
          "data": {
            "text/plain": [
              "2168"
            ]
          },
          "metadata": {
            "tags": []
          },
          "execution_count": 291
        }
      ]
    },
    {
      "cell_type": "code",
      "metadata": {
        "colab": {
          "base_uri": "https://localhost:8080/"
        },
        "id": "hFp2i6zDRX1v",
        "outputId": "c13c307e-f08d-44cf-d45e-04f7fccdec53"
      },
      "source": [
        "from sklearn.model_selection import train_test_split\n",
        "X_train,X_test,y_train,y_test=train_test_split(X,y,test_size=0.2,random_state=42,stratify=y)\n",
        "print(X_train.shape,X_test.shape)\n",
        "print(y_train.shape,y_test.shape)\n"
      ],
      "execution_count": 292,
      "outputs": [
        {
          "output_type": "stream",
          "text": [
            "(3333, 5) (834, 5)\n",
            "(3333,) (834,)\n"
          ],
          "name": "stdout"
        }
      ]
    },
    {
      "cell_type": "code",
      "metadata": {
        "colab": {
          "base_uri": "https://localhost:8080/"
        },
        "id": "C-cFcMLbuJyJ",
        "outputId": "a279407d-c31d-463d-fea7-fc28c51272ab"
      },
      "source": [
        "print(X_train,X_test)\n",
        "print(y_train,y_test)"
      ],
      "execution_count": 293,
      "outputs": [
        {
          "output_type": "stream",
          "text": [
            "                  RSI  DIFF1  DIFF2  DIFF3  DIFF4\n",
            "Date                                             \n",
            "2020-01-02  49.741388  -2.50 -12.80 -18.85 -14.05\n",
            "2019-05-06  68.063975  -7.40   4.05  23.85  31.15\n",
            "2016-12-06  36.486365   4.20  10.45 -10.95 -21.45\n",
            "2019-03-11  49.242285  10.65  12.35   8.25   9.10\n",
            "2019-04-16  70.476185  12.55  42.95  43.20  36.50\n",
            "...               ...    ...    ...    ...    ...\n",
            "2009-11-11  60.631459  22.45   9.80  49.95  95.15\n",
            "2015-12-24  59.550285  -1.20   3.15  -4.55  -1.10\n",
            "2009-06-09  64.768922  37.85   5.45   0.90  16.95\n",
            "2014-06-18  71.649055  23.00  29.80  43.30  26.55\n",
            "2007-02-06  76.065300   2.50  20.50  44.55  41.70\n",
            "\n",
            "[3333 rows x 5 columns]                   RSI  DIFF1  DIFF2  DIFF3  DIFF4\n",
            "Date                                             \n",
            "2005-10-03  28.639965   0.70  -3.65  -3.20   0.65\n",
            "2004-03-30  47.487975  -3.40  -8.45  -4.80  -9.25\n",
            "2008-01-08  58.099341 -59.25 -50.35 -19.10 -68.60\n",
            "2014-08-05  56.059885   0.20  12.65 -15.75 -36.30\n",
            "2010-12-06  47.405880  -5.65  -8.35   0.05   3.50\n",
            "...               ...    ...    ...    ...    ...\n",
            "2018-12-24  54.907086  11.30   2.20  12.85   1.40\n",
            "2004-04-07  48.584772  -5.35  -9.30  -9.40 -21.90\n",
            "2011-01-07  36.673685  -9.90 -13.70 -25.30 -21.90\n",
            "2009-08-27  54.184438 -12.60  -6.60 -17.65  -5.15\n",
            "2010-04-08  60.069829  -1.55   4.15  19.75  39.25\n",
            "\n",
            "[834 rows x 5 columns]\n",
            "Date\n",
            "2020-01-02    0\n",
            "2019-05-06    0\n",
            "2016-12-06    1\n",
            "2019-03-11    1\n",
            "2019-04-16    0\n",
            "             ..\n",
            "2009-11-11    0\n",
            "2015-12-24    1\n",
            "2009-06-09    1\n",
            "2014-06-18    0\n",
            "2007-02-06    1\n",
            "Name: Trends, Length: 3333, dtype: int64 Date\n",
            "2005-10-03    0\n",
            "2004-03-30    1\n",
            "2008-01-08    0\n",
            "2014-08-05    0\n",
            "2010-12-06    0\n",
            "             ..\n",
            "2018-12-24    1\n",
            "2004-04-07    1\n",
            "2011-01-07    0\n",
            "2009-08-27    1\n",
            "2010-04-08    0\n",
            "Name: Trends, Length: 834, dtype: int64\n"
          ],
          "name": "stdout"
        }
      ]
    },
    {
      "cell_type": "code",
      "metadata": {
        "id": "X4F3zCpC2JCl"
      },
      "source": [
        "from sklearn.tree import DecisionTreeClassifier\n",
        "clf=DecisionTreeClassifier(criterion='gini',max_depth=3,random_state=20,min_samples_leaf=5)\n",
        "model=clf.fit(X_train,y_train)"
      ],
      "execution_count": 294,
      "outputs": []
    },
    {
      "cell_type": "code",
      "metadata": {
        "colab": {
          "base_uri": "https://localhost:8080/"
        },
        "id": "HDZ0YPOI2qV0",
        "outputId": "065cd5b2-baff-4ab6-896c-5617f03f483e"
      },
      "source": [
        "print(accuracy_score(y_test,model.predict(X_test),normalize=True)*100)\n"
      ],
      "execution_count": 295,
      "outputs": [
        {
          "output_type": "stream",
          "text": [
            "52.038369304556355\n"
          ],
          "name": "stdout"
        }
      ]
    },
    {
      "cell_type": "code",
      "metadata": {
        "colab": {
          "base_uri": "https://localhost:8080/"
        },
        "id": "p1qrX8-f572O",
        "outputId": "4a222bd1-d372-4b5d-c540-3f43bdf26506"
      },
      "source": [
        "from sklearn.model_selection import KFold\n",
        "kf=KFold(n_splits=5,shuffle=False)\n",
        "kf.split(X)"
      ],
      "execution_count": 296,
      "outputs": [
        {
          "output_type": "execute_result",
          "data": {
            "text/plain": [
              "<generator object _BaseKFold.split at 0x7f2b7d3ec4c0>"
            ]
          },
          "metadata": {
            "tags": []
          },
          "execution_count": 296
        }
      ]
    },
    {
      "cell_type": "code",
      "metadata": {
        "colab": {
          "base_uri": "https://localhost:8080/"
        },
        "id": "e4FGioXD6g4l",
        "outputId": "237f148f-feb9-4a7a-92aa-2405e0d47548"
      },
      "source": [
        "from sklearn.metrics import accuracy_score\n",
        "accuracy_model=[]\n",
        "for train_index,test_index in kf.split(X):\n",
        "  X_train,X_test=X.iloc[train_index],X.iloc[test_index]\n",
        "  y_train,y_test=y[train_index],y[test_index]\n",
        "  model=clf.fit(X_train,y_train)\n",
        "  accuracy_model.append(accuracy_score(y_test,model.predict(X_test),normalize=True)*100)\n",
        "print(accuracy_model)"
      ],
      "execution_count": 297,
      "outputs": [
        {
          "output_type": "stream",
          "text": [
            "[51.91846522781775, 49.040767386091126, 51.50060024009604, 52.22088835534213, 50.540216086434576]\n"
          ],
          "name": "stdout"
        }
      ]
    },
    {
      "cell_type": "code",
      "metadata": {
        "colab": {
          "base_uri": "https://localhost:8080/",
          "height": 365
        },
        "id": "b2mrVxaq7u1l",
        "outputId": "320eead6-9d3f-4168-df53-95f76a07348e"
      },
      "source": [
        "scores = pd.DataFrame(accuracy_model,columns=['Scores'])\n",
        "sns.set(style=\"white\", rc={\"lines.linewidth\": 3})\n",
        "sns.displot(scores)\n",
        "plt.show()\n",
        "sns.set()"
      ],
      "execution_count": 298,
      "outputs": [
        {
          "output_type": "display_data",
          "data": {
            "image/png": "[encoded data removed]",
            "text/plain": [
              "<Figure size 436.475x360 with 1 Axes>"
            ]
          },
          "metadata": {
            "tags": []
          }
        }
      ]
    },
    {
      "cell_type": "code",
      "metadata": {
        "colab": {
          "base_uri": "https://localhost:8080/"
        },
        "id": "HtHR1FpV8ksn",
        "outputId": "9a659682-6e30-4c38-b6f8-e2f2e29c56bd"
      },
      "source": [
        "from sklearn.metrics import confusion_matrix\n",
        "from sklearn.metrics import accuracy_score\n",
        "cm = confusion_matrix(y_test, y_pred)\n",
        "print(\"CONFUSION MATRIX \\n\",cm)"
      ],
      "execution_count": 299,
      "outputs": [
        {
          "output_type": "stream",
          "text": [
            "CONFUSION MATRIX \n",
            " [[155 245]\n",
            " [167 266]]\n"
          ],
          "name": "stdout"
        }
      ]
    },
    {
      "cell_type": "code",
      "metadata": {
        "colab": {
          "base_uri": "https://localhost:8080/"
        },
        "id": "M2-sw4upR1ct",
        "outputId": "0b6da9ec-07f8-48af-c999-1276a2c907bd"
      },
      "source": [
        "from sklearn.metrics import classification_report\n",
        "y_pred=model.predict(X_test)\n",
        "report=classification_report(y_test,y_pred)\n",
        "print(report)"
      ],
      "execution_count": 300,
      "outputs": [
        {
          "output_type": "stream",
          "text": [
            "              precision    recall  f1-score   support\n",
            "\n",
            "           0       0.48      0.39      0.43       400\n",
            "           1       0.52      0.61      0.56       433\n",
            "\n",
            "    accuracy                           0.51       833\n",
            "   macro avg       0.50      0.50      0.50       833\n",
            "weighted avg       0.50      0.51      0.50       833\n",
            "\n"
          ],
          "name": "stdout"
        }
      ]
    },
    {
      "cell_type": "code",
      "metadata": {
        "colab": {
          "base_uri": "https://localhost:8080/"
        },
        "id": "oSNI-ovXoOih",
        "outputId": "affa3a58-4230-4b55-cb15-81fd3fe78bcb"
      },
      "source": [
        "from scipy.stats import sem\n",
        "from numpy import mean\n",
        "from numpy import std\n",
        "from sklearn.datasets import make_classification\n",
        "from sklearn.model_selection import RepeatedKFold\n",
        "from sklearn.model_selection import cross_val_score\n",
        "from sklearn.naive_bayes import GaussianNB\n",
        "from matplotlib import pyplot\n",
        "model_NB = GaussianNB()\n",
        "model_NB.fit(X_train, y_train)"
      ],
      "execution_count": 325,
      "outputs": [
        {
          "output_type": "execute_result",
          "data": {
            "text/plain": [
              "GaussianNB(priors=None, var_smoothing=1e-09)"
            ]
          },
          "metadata": {
            "tags": []
          },
          "execution_count": 325
        }
      ]
    },
    {
      "cell_type": "code",
      "metadata": {
        "id": "9ublF9oBJydO"
      },
      "source": [
        "\n",
        "\n",
        "# evaluate a model with a given number of repeats\n",
        "def evaluate_model(X, y, repeats):\n",
        "\tcv = RepeatedKFold(n_splits=10, n_repeats=repeats, random_state=1)\n",
        "\tscores_NB = cross_val_score(model_NB, X, y, scoring='accuracy', cv=cv, n_jobs=-1)\n",
        "\treturn scores_NB\n",
        "\n",
        "# create dataset\n"
      ],
      "execution_count": 326,
      "outputs": []
    },
    {
      "cell_type": "code",
      "metadata": {
        "colab": {
          "base_uri": "https://localhost:8080/",
          "height": 650
        },
        "id": "0hDe_woRK_0g",
        "outputId": "e8dc7f5b-98fc-457f-c56e-7088b118ecbc"
      },
      "source": [
        "repeats = range(1,16)\n",
        "results = list()\n",
        "for r in repeats:\n",
        "\tscores_NB = evaluate_model(X, y, r)\n",
        "\tresults.append(scores_NB)\n",
        "sns.displot(scores_NB)"
      ],
      "execution_count": 327,
      "outputs": [
        {
          "output_type": "stream",
          "text": [
            ">1 mean=0.4968 se=0.005\n",
            ">2 mean=0.4968 se=0.005\n",
            ">3 mean=0.4968 se=0.005\n",
            ">4 mean=0.4968 se=0.005\n",
            ">5 mean=0.4968 se=0.005\n",
            ">6 mean=0.4968 se=0.005\n",
            ">7 mean=0.4968 se=0.005\n",
            ">8 mean=0.4968 se=0.005\n",
            ">9 mean=0.4968 se=0.005\n",
            ">10 mean=0.4968 se=0.005\n",
            ">11 mean=0.4968 se=0.005\n",
            ">12 mean=0.4968 se=0.005\n",
            ">13 mean=0.4968 se=0.005\n",
            ">14 mean=0.4968 se=0.005\n",
            ">15 mean=0.4968 se=0.005\n"
          ],
          "name": "stdout"
        },
        {
          "output_type": "execute_result",
          "data": {
            "text/plain": [
              "<seaborn.axisgrid.FacetGrid at 0x7f2b81ce8908>"
            ]
          },
          "metadata": {
            "tags": []
          },
          "execution_count": 327
        },
        {
          "output_type": "display_data",
          "data": {
            "image/png": "[encoded data removed]",
            "text/plain": [
              "<Figure size 360x360 with 1 Axes>"
            ]
          },
          "metadata": {
            "tags": [],
            "needs_background": "light"
          }
        }
      ]
    },
    {
      "cell_type": "code",
      "metadata": {
        "colab": {
          "base_uri": "https://localhost:8080/"
        },
        "id": "uDXIuenlL_RR",
        "outputId": "678d57f8-a9f0-4c97-9795-fb59a8ff1657"
      },
      "source": [
        "y_pred_NB = model_NB.predict(X_test)\n",
        "cm = confusion_matrix(y_test, y_pred_NB)\n",
        "print(cm)\n",
        "report=classification_report(y_test,y_pred_NB)\n",
        "print(report)"
      ],
      "execution_count": 328,
      "outputs": [
        {
          "output_type": "stream",
          "text": [
            "[[ 76 324]\n",
            " [ 86 347]]\n",
            "              precision    recall  f1-score   support\n",
            "\n",
            "           0       0.47      0.19      0.27       400\n",
            "           1       0.52      0.80      0.63       433\n",
            "\n",
            "    accuracy                           0.51       833\n",
            "   macro avg       0.49      0.50      0.45       833\n",
            "weighted avg       0.49      0.51      0.46       833\n",
            "\n"
          ],
          "name": "stdout"
        }
      ]
    },
    {
      "cell_type": "code",
      "metadata": {
        "colab": {
          "base_uri": "https://localhost:8080/",
          "height": 341
        },
        "id": "EwFtJYMzVmzC",
        "outputId": "6a767511-9434-45b4-e2a8-fa5d364c04ea"
      },
      "source": [
        "from sklearn.neighbors import KNeighborsClassifier\n",
        "from sklearn.metrics import classification_report\n",
        "from sklearn.metrics import confusion_matrix\n",
        "import matplotlib.pyplot as plt \n",
        "%matplotlib inline\n",
        "k_range = range(1, 31)\n",
        "k_scores = []\n",
        "for k in k_range:\n",
        "    knn = KNeighborsClassifier(n_neighbors=k)\n",
        "    scores = cross_val_score(knn, X, y, cv=10, scoring='accuracy')\n",
        "    k_scores.append(scores.mean())\n",
        "sns.distplot(k_scores)"
      ],
      "execution_count": 330,
      "outputs": [
        {
          "output_type": "stream",
          "text": [
            "/usr/local/lib/python3.6/dist-packages/seaborn/distributions.py:2551: FutureWarning: `distplot` is a deprecated function and will be removed in a future version. Please adapt your code to use either `displot` (a figure-level function with similar flexibility) or `histplot` (an axes-level function for histograms).\n",
            "  warnings.warn(msg, FutureWarning)\n"
          ],
          "name": "stderr"
        },
        {
          "output_type": "execute_result",
          "data": {
            "text/plain": [
              "<matplotlib.axes._subplots.AxesSubplot at 0x7f2b81d447b8>"
            ]
          },
          "metadata": {
            "tags": []
          },
          "execution_count": 330
        },
        {
          "output_type": "display_data",
          "data": {
            "image/png": "[encoded data removed]",
            "text/plain": [
              "<Figure size 432x288 with 1 Axes>"
            ]
          },
          "metadata": {
            "tags": [],
            "needs_background": "light"
          }
        }
      ]
    },
    {
      "cell_type": "code",
      "metadata": {
        "colab": {
          "base_uri": "https://localhost:8080/"
        },
        "id": "ywodMzBF-qEO",
        "outputId": "0f3e5412-7b1a-4474-f66a-3c06bbf55754"
      },
      "source": [
        "y_pred_knn= classifier_knearest.predict(X_test)\n",
        "cm = confusion_matrix(y_test, y_pred_knn)\n",
        "print(cm)\n",
        "report=classification_report(y_test,y_pred_knn)\n",
        "print(report)"
      ],
      "execution_count": 332,
      "outputs": [
        {
          "output_type": "stream",
          "text": [
            "[[206 194]\n",
            " [217 216]]\n",
            "              precision    recall  f1-score   support\n",
            "\n",
            "           0       0.49      0.52      0.50       400\n",
            "           1       0.53      0.50      0.51       433\n",
            "\n",
            "    accuracy                           0.51       833\n",
            "   macro avg       0.51      0.51      0.51       833\n",
            "weighted avg       0.51      0.51      0.51       833\n",
            "\n"
          ],
          "name": "stdout"
        }
      ]
    }
  ]
}